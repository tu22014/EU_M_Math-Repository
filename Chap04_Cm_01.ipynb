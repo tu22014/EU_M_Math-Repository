{
  "nbformat": 4,
  "nbformat_minor": 0,
  "metadata": {
    "colab": {
      "name": "Chap04_Cm-01.ipynb",
      "provenance": [],
      "authorship_tag": "ABX9TyNiS0ClbzRGKm53AtvWXMh+",
      "include_colab_link": true
    },
    "kernelspec": {
      "name": "python3",
      "display_name": "Python 3"
    },
    "language_info": {
      "name": "python"
    }
  },
  "cells": [
    {
      "cell_type": "markdown",
      "metadata": {
        "id": "view-in-github",
        "colab_type": "text"
      },
      "source": [
        "<a href=\"https://colab.research.google.com/github/tu22014/EU_M_Math-Repository/blob/main/Chap04_Cm_01.ipynb\" target=\"_parent\"><img src=\"https://colab.research.google.com/assets/colab-badge.svg\" alt=\"Open In Colab\"/></a>"
      ]
    },
    {
      "cell_type": "code",
      "execution_count": 5,
      "metadata": {
        "colab": {
          "base_uri": "https://localhost:8080/"
        },
        "id": "Bh3iJch1acV-",
        "outputId": "7fd27218-fc5a-46e9-f88b-e433d1c4ce00"
      },
      "outputs": [
        {
          "output_type": "stream",
          "name": "stdout",
          "text": [
            "数学の欠席平均: 5.319371727748691\n",
            "ポルトガル語の欠席平均: 3.6727748691099475\n",
            "数学とポルトガル語の欠席平均のp値 =  2.3441656888384195e-06\n",
            "数学の勉強時間平均: 2.0340314136125652\n",
            "ポルトガル語の勉強時間平均: 2.0392670157068062\n",
            "数学とポルトガル語の勉強時間平均のp値 =  0.5643842756976525\n"
          ]
        }
      ],
      "source": [
        "#ライブラリのインポート\n",
        "import numpy as np\n",
        "import scipy as sp\n",
        "import pandas as pd\n",
        "from pandas import Series, DataFrame\n",
        "\n",
        "#可視化ライブラリ\n",
        "import matplotlib.pyplot as plt\n",
        "import matplotlib as mp1\n",
        "import seaborn as sns\n",
        "sns.set()\n",
        "%matplotlib inline\n",
        "\n",
        "#少数第3位まで表記\n",
        "%precision 3\n",
        "\n",
        "# ランダムシードの固定\n",
        "np.random.seed(0)\n",
        "\n",
        "import requests\n",
        "import zipfile\n",
        "from io import StringIO\n",
        "import io\n",
        "\n",
        "\n",
        "zip_file_url = 'https://archive.ics.uci.edu/ml/machine-learning-databases/00356/student.zip'\n",
        "\n",
        "r = requests.get(zip_file_url, stream=True)\n",
        "z = zipfile.ZipFile(io.BytesIO(r.content))\n",
        "z.extractall()\n",
        "\n",
        "#数学のデータを読み込む\n",
        "student_data_math = pd.read_csv('student-mat.csv', sep=';')\n",
        "\n",
        "#ポルトガル語のデータを読み込み\n",
        "student_data_por = pd.read_csv('student-por.csv', sep=';')\n",
        "\n",
        "#マージする\n",
        "student_data_merge = pd.merge(student_data_math,\n",
        "                              student_data_por,\n",
        "                              on = ['school', 'sex', 'age', 'address', 'famsize', 'Pstatus', 'Medu',\n",
        "                                    'Fedu', 'Mjob', 'Fjob', 'reason', 'nursery', 'internet'],\n",
        "                              suffixes=('_math', '_por'))\n",
        "#検定\n",
        "from scipy import stats\n",
        "\n",
        "print('数学の欠席平均:', student_data_merge.absences_math.mean())\n",
        "print('ポルトガル語の欠席平均:', student_data_merge.absences_por.mean())\n",
        "\n",
        "t, p = stats.ttest_rel(student_data_merge.absences_math, student_data_merge.absences_por)\n",
        "print('数学とポルトガル語の欠席平均のp値 = ', p)\n",
        "\n",
        "print('数学の勉強時間平均:', student_data_merge.studytime_math.mean())\n",
        "print('ポルトガル語の勉強時間平均:', student_data_merge.studytime_por.mean())\n",
        "\n",
        "t, p = stats.ttest_rel(student_data_merge.studytime_math, student_data_merge.studytime_por)\n",
        "print('数学とポルトガル語の勉強時間平均のp値 = ', p)"
      ]
    }
  ]
}