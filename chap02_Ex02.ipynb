{
  "nbformat": 4,
  "nbformat_minor": 0,
  "metadata": {
    "colab": {
      "name": "chap02_Ex02.ipynb",
      "provenance": [],
      "authorship_tag": "ABX9TyPqNsSKyP00LGi51DYONvDJ",
      "include_colab_link": true
    },
    "kernelspec": {
      "name": "python3",
      "display_name": "Python 3"
    },
    "language_info": {
      "name": "python"
    }
  },
  "cells": [
    {
      "cell_type": "markdown",
      "metadata": {
        "id": "view-in-github",
        "colab_type": "text"
      },
      "source": [
        "<a href=\"https://colab.research.google.com/github/tu22014/EU_M_Math-Repository/blob/main/chap02_Ex02.ipynb\" target=\"_parent\"><img src=\"https://colab.research.google.com/assets/colab-badge.svg\" alt=\"Open In Colab\"/></a>"
      ]
    },
    {
      "cell_type": "code",
      "execution_count": 1,
      "metadata": {
        "colab": {
          "base_uri": "https://localhost:8080/"
        },
        "id": "Oq3yabPCDpZZ",
        "outputId": "40638d9e-c9e2-44e3-d899-7a1f6a4de270"
      },
      "outputs": [
        {
          "output_type": "stream",
          "name": "stdout",
          "text": [
            "乱数10個の配列 [ 1.332  0.715 -1.545 -0.008  0.621 -0.72   0.266  0.109  0.004 -0.175]\n",
            "最小値: -1.5454002921112682\n",
            "最大値: 1.331586504129518\n",
            "合計: 0.5980830814078976\n"
          ]
        }
      ],
      "source": [
        "import numpy as np\n",
        "import numpy.random as random\n",
        "import scipy as sp\n",
        "import pandas as pd\n",
        "from pandas import Series, DataFrame\n",
        "\n",
        "import matplotlib.pyplot as plt\n",
        "import matplotlib as mpl\n",
        "import seaborn as sns\n",
        "%matplotlib inline\n",
        "\n",
        "#小数点第3位まで表示\n",
        "%precision 3\n",
        "\n",
        "#(2-2)\n",
        "#シード値の固定（ここでは10とした）\n",
        "random.seed(10)\n",
        "practice2_2_data = random.randn(10) \n",
        "print('乱数10個の配列', practice2_2_data)\n",
        "print('最小値:', practice2_2_data.min())\n",
        "print('最大値:',practice2_2_data.max())\n",
        "print('合計:', practice2_2_data.sum())"
      ]
    }
  ]
}