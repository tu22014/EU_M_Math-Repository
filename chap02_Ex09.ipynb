{
  "nbformat": 4,
  "nbformat_minor": 0,
  "metadata": {
    "colab": {
      "name": "chap02_Ex09.ipynb",
      "provenance": [],
      "authorship_tag": "ABX9TyPVFa5Y6kVaKJAsRGXOwpl/",
      "include_colab_link": true
    },
    "kernelspec": {
      "name": "python3",
      "display_name": "Python 3"
    },
    "language_info": {
      "name": "python"
    }
  },
  "cells": [
    {
      "cell_type": "markdown",
      "metadata": {
        "id": "view-in-github",
        "colab_type": "text"
      },
      "source": [
        "<a href=\"https://colab.research.google.com/github/tu22014/EU_M_Math-Repository/blob/main/chap02_Ex09.ipynb\" target=\"_parent\"><img src=\"https://colab.research.google.com/assets/colab-badge.svg\" alt=\"Open In Colab\"/></a>"
      ]
    },
    {
      "cell_type": "code",
      "execution_count": 1,
      "metadata": {
        "colab": {
          "base_uri": "https://localhost:8080/"
        },
        "id": "AJzC6bspHJF2",
        "outputId": "6e068db9-478b-4c02-ba9a-28a1cdc412de"
      },
      "outputs": [
        {
          "output_type": "stream",
          "name": "stderr",
          "text": [
            "/usr/local/lib/python3.7/dist-packages/ipykernel_launcher.py:35: FutureWarning: Dropping of nuisance columns in DataFrame reductions (with 'numeric_only=None') is deprecated; in a future version this will raise TypeError.  Select only valid columns before calling the reduction.\n"
          ]
        },
        {
          "output_type": "execute_result",
          "data": {
            "text/plain": [
              "ID          17.0\n",
              "Money      400.0\n",
              "Math        45.0\n",
              "English     50.0\n",
              "dtype: float64"
            ]
          },
          "metadata": {},
          "execution_count": 1
        }
      ],
      "source": [
        "import numpy as np\n",
        "import numpy.random as random\n",
        "import scipy as sp\n",
        "import pandas as pd\n",
        "from pandas import Series, DataFrame\n",
        "\n",
        "import matplotlib.pyplot as plt\n",
        "import matplotlib as mpl\n",
        "import seaborn as sns\n",
        "%matplotlib inline\n",
        "\n",
        "#小数点第3位まで表示\n",
        "%precision 3\n",
        "\n",
        "from pandas import Series, DataFrame\n",
        "import pandas as pd\n",
        "\n",
        "attri_data1 = {'ID':['1','2','3','4','5'],\n",
        "               'Sex':['F','F','M','M','F'],\n",
        "               'Money':[1000,2000,500,300,700],\n",
        "               'Name':['Saito','Horie','Kondo','Kawada','Matsubara']}\n",
        "attri_data_frame1 = DataFrame(attri_data1)\n",
        "\n",
        "#(2-9)\n",
        "attri_data2 = {'ID':['3','4','7'],\n",
        "               'Math':[60,30,40],\n",
        "               'English':[80,20,30]}\n",
        "\n",
        "attri_data_frame2 = DataFrame(attri_data2)\n",
        "\n",
        "\n",
        "#データのマージ\n",
        "merge_data1 = pd.merge(attri_data_frame1,attri_data_frame2)\n",
        "\n",
        "merge_data1.mean()"
      ]
    }
  ]
}