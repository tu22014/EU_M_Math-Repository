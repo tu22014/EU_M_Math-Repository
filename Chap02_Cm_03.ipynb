{
  "nbformat": 4,
  "nbformat_minor": 0,
  "metadata": {
    "colab": {
      "name": "Chap02_Cm-03.ipynb",
      "provenance": [],
      "collapsed_sections": [],
      "authorship_tag": "ABX9TyMh9PNg8Xqf1/0HYVthpmup",
      "include_colab_link": true
    },
    "kernelspec": {
      "name": "python3",
      "display_name": "Python 3"
    },
    "language_info": {
      "name": "python"
    }
  },
  "cells": [
    {
      "cell_type": "markdown",
      "metadata": {
        "id": "view-in-github",
        "colab_type": "text"
      },
      "source": [
        "<a href=\"https://colab.research.google.com/github/tu22014/EU_M_Math-Repository/blob/main/Chap02_Cm_03.ipynb\" target=\"_parent\"><img src=\"https://colab.research.google.com/assets/colab-badge.svg\" alt=\"Open In Colab\"/></a>"
      ]
    },
    {
      "cell_type": "code",
      "execution_count": 2,
      "metadata": {
        "colab": {
          "base_uri": "https://localhost:8080/"
        },
        "id": "dRm-SetzXqmW",
        "outputId": "0e607720-617a-4758-c2cf-5003b2504487"
      },
      "outputs": [
        {
          "output_type": "stream",
          "name": "stdout",
          "text": [
            "円周率: 3.1084\n"
          ]
        }
      ],
      "source": [
        "#ライブラリのインポート\n",
        "import numpy as np\n",
        "import numpy.random as random\n",
        "import scipy as sp\n",
        "import pandas as pd\n",
        "from pandas import Series, DataFrame\n",
        "\n",
        "#可視化ライブラリ\n",
        "import matplotlib.pyplot as plt\n",
        "import matplotlib as mp1\n",
        "import seaborn as sns\n",
        "%matplotlib inline\n",
        "\n",
        "#少数第3位まで表記\n",
        "%precision 3\n",
        "\n",
        "#MatplotlibとSeabornの読み込み\n",
        "import matplotlib as mpl\n",
        "import seaborn as sns\n",
        "\n",
        "#pyplotをpltの別名で実行できるようにする\n",
        "import matplotlib.pyplot as plt\n",
        "\n",
        "import math\n",
        "\n",
        "#総合問題3\n",
        "#シードの固定\n",
        "random.seed(5)\n",
        "#0から1の一様乱数n個(n=10000)を2組作成\n",
        "n = 10000\n",
        "x = np.random.uniform(0.0, 1.0, n)\n",
        "y = np.random.uniform(0.0, 1.0, n)\n",
        "\n",
        "#カウント用の変数を用意\n",
        "circle_in_count = 0\n",
        "#0からn-1までの繰り返し\n",
        "for i in range(0, n):\n",
        "  #原点から点(x,y)のベクトルを変数xyに代入\n",
        "  xy = math.hypot(x[i],y[i])\n",
        "  #xyのベクトルが1より小さいとき円に入ったとしてカウント\n",
        "  if xy <1:\n",
        "    circle_in_count = circle_in_count + 1\n",
        "\n",
        "print('円周率:', 4 * circle_in_count / n)"
      ]
    }
  ]
}