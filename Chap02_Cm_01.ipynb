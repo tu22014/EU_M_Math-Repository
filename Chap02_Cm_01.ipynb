{
  "nbformat": 4,
  "nbformat_minor": 0,
  "metadata": {
    "colab": {
      "name": "Chap02_Cm-01.ipynb",
      "provenance": [],
      "collapsed_sections": [],
      "authorship_tag": "ABX9TyM/s1lNRCxlRpVMePK2rJpC",
      "include_colab_link": true
    },
    "kernelspec": {
      "name": "python3",
      "display_name": "Python 3"
    },
    "language_info": {
      "name": "python"
    }
  },
  "cells": [
    {
      "cell_type": "markdown",
      "metadata": {
        "id": "view-in-github",
        "colab_type": "text"
      },
      "source": [
        "<a href=\"https://colab.research.google.com/github/tu22014/EU_M_Math-Repository/blob/main/Chap02_Cm_01.ipynb\" target=\"_parent\"><img src=\"https://colab.research.google.com/assets/colab-badge.svg\" alt=\"Open In Colab\"/></a>"
      ]
    },
    {
      "cell_type": "code",
      "execution_count": null,
      "metadata": {
        "id": "HTTVrRmVR_ND"
      },
      "outputs": [],
      "source": [
        "#ライブラリのインポート\n",
        "import numpy as np\n",
        "import numpy.random as random\n",
        "import scipy as sp\n",
        "import pandas as pd\n",
        "from pandas import Series, DataFrame\n",
        "\n",
        "#可視化ライブラリ\n",
        "import matplotlib.pyplot as plt\n",
        "import matplotlib as mp1\n",
        "import seaborn as sns\n",
        "%matplotlib inline\n",
        "\n",
        "#少数第3位まで表記\n",
        "%precision 3\n",
        "\n",
        "#総合問題1\n",
        "#シードの固定\n",
        "random.seed(5)\n",
        "#0から1の一様乱数n個(n=10000)を2組作成\n",
        "n = 10000\n",
        "x = np.random.uniform(0.0, 1.0, n)\n",
        "y = np.random.uniform(0.0, 1.0, n)"
      ]
    },
    {
      "cell_type": "code",
      "source": [
        ""
      ],
      "metadata": {
        "id": "xU20YsOxdCgL"
      },
      "execution_count": null,
      "outputs": []
    }
  ]
}