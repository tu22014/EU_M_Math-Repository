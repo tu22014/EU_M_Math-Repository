{
  "nbformat": 4,
  "nbformat_minor": 0,
  "metadata": {
    "colab": {
      "name": "Chap04_Ex-13.ipynb",
      "provenance": [],
      "collapsed_sections": [],
      "authorship_tag": "ABX9TyOSYYSCfJqpolYozC95EsDJ",
      "include_colab_link": true
    },
    "kernelspec": {
      "name": "python3",
      "display_name": "Python 3"
    },
    "language_info": {
      "name": "python"
    }
  },
  "cells": [
    {
      "cell_type": "markdown",
      "metadata": {
        "id": "view-in-github",
        "colab_type": "text"
      },
      "source": [
        "<a href=\"https://colab.research.google.com/github/tu22014/EU_M_Math-Repository/blob/main/Chap04_Ex_13.ipynb\" target=\"_parent\"><img src=\"https://colab.research.google.com/assets/colab-badge.svg\" alt=\"Open In Colab\"/></a>"
      ]
    },
    {
      "cell_type": "code",
      "execution_count": 6,
      "metadata": {
        "colab": {
          "base_uri": "https://localhost:8080/"
        },
        "id": "eYK4DF8cXG_m",
        "outputId": "cacdefa3-96de-4b48-9aa0-92c193f3ffcc"
      },
      "outputs": [
        {
          "output_type": "stream",
          "name": "stdout",
          "text": [
            "G2数学の成績平均: 10.712041884816754\n",
            "G2ポルトガル語の成績平均: 12.238219895287958\n",
            "G2の数学とポルトガル語のp値 =  4.0622824801348043e-19\n",
            "G3数学の成績平均: 10.387434554973822\n",
            "G3ポルトガル語の成績平均: 12.515706806282722\n",
            "G3の数学とポルトガル語のp値 =  5.561492113688385e-21\n"
          ]
        }
      ],
      "source": [
        "#ライブラリのインポート\n",
        "import numpy as np\n",
        "import scipy as sp\n",
        "import pandas as pd\n",
        "from pandas import Series, DataFrame\n",
        "\n",
        "#可視化ライブラリ\n",
        "import matplotlib.pyplot as plt\n",
        "import matplotlib as mp1\n",
        "import seaborn as sns\n",
        "sns.set()\n",
        "%matplotlib inline\n",
        "\n",
        "#少数第3位まで表記\n",
        "%precision 3\n",
        "\n",
        "# ランダムシードの固定\n",
        "np.random.seed(0)\n",
        "\n",
        "import requests\n",
        "import zipfile\n",
        "from io import StringIO\n",
        "import io\n",
        "\n",
        "\n",
        "zip_file_url = 'https://archive.ics.uci.edu/ml/machine-learning-databases/00356/student.zip'\n",
        "\n",
        "r = requests.get(zip_file_url, stream=True)\n",
        "z = zipfile.ZipFile(io.BytesIO(r.content))\n",
        "z.extractall()\n",
        "\n",
        "#数学のデータを読み込む\n",
        "student_data_math = pd.read_csv('student-mat.csv', sep=';')\n",
        "\n",
        "#ポルトガル語のデータを読み込み\n",
        "student_data_por = pd.read_csv('student-por.csv', sep=';')\n",
        "\n",
        "#マージする\n",
        "student_data_merge = pd.merge(student_data_math,\n",
        "                              student_data_por,\n",
        "                              on = ['school', 'sex', 'age', 'address', 'famsize', 'Pstatus', 'Medu',\n",
        "                                    'Fedu', 'Mjob', 'Fjob', 'reason', 'nursery', 'internet'],\n",
        "                              suffixes=('_math', '_por'))\n",
        "#検定\n",
        "from scipy import stats\n",
        "\n",
        "print('G2数学の成績平均:', student_data_merge.G2_math.mean())\n",
        "print('G2ポルトガル語の成績平均:', student_data_merge.G2_por.mean())\n",
        "\n",
        "t, p = stats.ttest_rel(student_data_merge.G2_math, student_data_merge.G2_por)\n",
        "print('G2の数学とポルトガル語のp値 = ', p)\n",
        "\n",
        "print('G3数学の成績平均:', student_data_merge.G3_math.mean())\n",
        "print('G3ポルトガル語の成績平均:', student_data_merge.G3_por.mean())\n",
        "\n",
        "t, p = stats.ttest_rel(student_data_merge.G3_math, student_data_merge.G3_por)\n",
        "print('G3の数学とポルトガル語のp値 = ', p)"
      ]
    }
  ]
}