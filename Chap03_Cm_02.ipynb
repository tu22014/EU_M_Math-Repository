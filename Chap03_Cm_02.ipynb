{
  "nbformat": 4,
  "nbformat_minor": 0,
  "metadata": {
    "colab": {
      "name": "Chap03_Cm-02.ipynb",
      "provenance": [],
      "collapsed_sections": [],
      "authorship_tag": "ABX9TyPbmOjAWyYxKCq5npb2vjws",
      "include_colab_link": true
    },
    "kernelspec": {
      "name": "python3",
      "display_name": "Python 3"
    },
    "language_info": {
      "name": "python"
    }
  },
  "cells": [
    {
      "cell_type": "markdown",
      "metadata": {
        "id": "view-in-github",
        "colab_type": "text"
      },
      "source": [
        "<a href=\"https://colab.research.google.com/github/tu22014/EU_M_Math-Repository/blob/main/Chap03_Cm_02.ipynb\" target=\"_parent\"><img src=\"https://colab.research.google.com/assets/colab-badge.svg\" alt=\"Open In Colab\"/></a>"
      ]
    },
    {
      "cell_type": "code",
      "execution_count": 18,
      "metadata": {
        "colab": {
          "base_uri": "https://localhost:8080/",
          "height": 268
        },
        "id": "WVB0zOMJ-3dp",
        "outputId": "ea9dd5fb-c881-4847-bc18-d8993282843c"
      },
      "outputs": [
        {
          "output_type": "display_data",
          "data": {
            "text/plain": [
              "<Figure size 432x288 with 1 Axes>"
            ],
            "image/png": "[encoded data removed]"
          },
          "metadata": {
            "needs_background": "light"
          }
        }
      ],
      "source": [
        "#ライブラリのインポート\n",
        "import numpy as np\n",
        "import pandas as pd\n",
        "\n",
        "#可視化ライブラリ\n",
        "import matplotlib.pyplot as plt\n",
        "import matplotlib as mp1\n",
        "import seaborn as sns\n",
        "sns.set()\n",
        "%matplotlib inline\n",
        "\n",
        "#少数第3位まで表記\n",
        "%precision 3\n",
        "\n",
        "#(3-2)\n",
        "\n",
        "# webからデータを習得したり、zipファイルを扱うためのライブラリ\n",
        "import requests, zipfile\n",
        "from io import StringIO\n",
        "import io\n",
        "\n",
        "# データがあるurlの指定\n",
        "url = 'https://archive.ics.uci.edu/ml/machine-learning-databases/00356/student.zip'\n",
        "\n",
        "#　データをurlから習得する\n",
        "r = requests.get(url, stream=True)\n",
        "\n",
        "# zipfileを読み込み展開する\n",
        "z = zipfile.ZipFile(io.BytesIO(r.content))\n",
        "z.extractall()\n",
        "\n",
        "#データの読み込み\n",
        "student_data_math = pd.read_csv('student-mat.csv', sep=';')\n",
        "\n",
        "#データの抽出\n",
        "student_data_math_sex_F = student_data_math[student_data_math['sex'] == 'F']\n",
        "student_data_math_sex_M = student_data_math[student_data_math['sex'] == 'M']\n",
        "\n",
        "student_data_math_sex_F_G1 = student_data_math_sex_F['G1'].sort_values()\n",
        "student_data_math_sex_M_G1 = student_data_math_sex_M['G1'].sort_values()\n",
        "\n",
        "#要素数までの連続した整数の生成\n",
        "len_F = np.arange(len(student_data_math_sex_F_G1))\n",
        "len_M = np.arange(len(student_data_math_sex_M_G1))\n",
        "\n",
        "#ローレンツ曲線\n",
        "#完全平等\n",
        "plt.plot(len_F / len_F.max(), len_F / len_F.max(), label ='E')\n",
        "#「　numpy.cumsum()　」累積和\n",
        "#累積:各項目のデータ数を足していった数\n",
        "#累積比率:各項目のデータ数を累積数の合計で割った数値\n",
        "#横軸は人数の累積比率、縦軸はG1\n",
        "plt.plot(len_F / len_F.max(), student_data_math_sex_F_G1.cumsum() / student_data_math_sex_F_G1.sum(), label = 'F')\n",
        "plt.plot(len_M / len_M.max(), student_data_math_sex_M_G1.cumsum() / student_data_math_sex_M_G1.sum(), label = 'M')\n",
        "#グラフに凡例を表示\n",
        "plt.legend()\n",
        "#グリッド表記\n",
        "plt.grid(True)"
      ]
    },
    {
      "cell_type": "code",
      "source": [
        "#ジニ係数の関数\n",
        "#「 append() 」 末尾に要素を追加\n",
        "# abs:絶対値\n",
        "def heikinsa(data):\n",
        "  subt = []\n",
        "  for i in range(0, len(data)-1):\n",
        "    for j in range(i + 1, len(data)):\n",
        "      subt.append(np.abs(data[i] - data[j]))\n",
        "  return float(sum(subt)) * 2 / (len(data) ** 2)\n",
        "\n",
        "def zini(heikinsa, data):\n",
        "  return heikinsa / (2 * np.mean(data))\n",
        "\n",
        "print('男の1期目の成績のジニ係数:', zini(heikinsa(np.array(student_data_math_sex_M_G1)), np.array(student_data_math_sex_M_G1)))\n",
        "print('女の1期目の成績のジニ係数:', zini(heikinsa(np.array(student_data_math_sex_F_G1)), np.array(student_data_math_sex_F_G1)))\n",
        "\n",
        "print(len(np.array(student_data_math_sex_M_G1)))"
      ],
      "metadata": {
        "colab": {
          "base_uri": "https://localhost:8080/"
        },
        "id": "kLgjdoQiSW6c",
        "outputId": "ff933338-0137-4a27-baef-dd5d2eb24564"
      },
      "execution_count": 26,
      "outputs": [
        {
          "output_type": "stream",
          "name": "stdout",
          "text": [
            "男の1期目の成績のジニ係数: 0.17197351667939903\n",
            "女の1期目の成績のジニ係数: 0.1723782950865341\n",
            "187\n"
          ]
        }
      ]
    }
  ]
}