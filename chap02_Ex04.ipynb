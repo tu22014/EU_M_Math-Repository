{
  "nbformat": 4,
  "nbformat_minor": 0,
  "metadata": {
    "colab": {
      "name": "chap02_Ex04.ipynb",
      "provenance": [],
      "authorship_tag": "ABX9TyOLvcT8rt/VqeEQooFajQav",
      "include_colab_link": true
    },
    "kernelspec": {
      "name": "python3",
      "display_name": "Python 3"
    },
    "language_info": {
      "name": "python"
    }
  },
  "cells": [
    {
      "cell_type": "markdown",
      "metadata": {
        "id": "view-in-github",
        "colab_type": "text"
      },
      "source": [
        "<a href=\"https://colab.research.google.com/github/tu22014/EU_M_Math-Repository/blob/main/chap02_Ex04.ipynb\" target=\"_parent\"><img src=\"https://colab.research.google.com/assets/colab-badge.svg\" alt=\"Open In Colab\"/></a>"
      ]
    },
    {
      "cell_type": "code",
      "execution_count": 1,
      "metadata": {
        "colab": {
          "base_uri": "https://localhost:8080/"
        },
        "id": "OAHIS3KPE43T",
        "outputId": "1e640a36-ff64-478e-8928-78459c8ddc70"
      },
      "outputs": [
        {
          "output_type": "stream",
          "name": "stdout",
          "text": [
            "行列式: -12.0\n"
          ]
        }
      ],
      "source": [
        "import numpy as np\n",
        "import numpy.random as random\n",
        "import scipy as sp\n",
        "import pandas as pd\n",
        "from pandas import Series, DataFrame\n",
        "\n",
        "import matplotlib.pyplot as plt\n",
        "import matplotlib as mpl\n",
        "import seaborn as sns\n",
        "%matplotlib inline\n",
        "\n",
        "#小数点第3位まで表示\n",
        "%precision 3\n",
        "\n",
        "#(2-4)\n",
        "#　線形代数用のライブラリ\n",
        "import scipy.linalg as linalg\n",
        "#行列の入力\n",
        "practice2_4 = np.array([[1, 2, 3],\n",
        "                       [1, 3, 2],\n",
        "                       [3, 1, 2]])\n",
        "#行列式\n",
        "print('行列式:', linalg.det(practice2_4))"
      ]
    }
  ]
}