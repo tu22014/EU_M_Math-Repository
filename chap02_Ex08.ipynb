{
  "nbformat": 4,
  "nbformat_minor": 0,
  "metadata": {
    "colab": {
      "name": "chap02_Ex08.ipynb",
      "provenance": [],
      "authorship_tag": "ABX9TyNK03TIkSaaqEECCEVy9qvf",
      "include_colab_link": true
    },
    "kernelspec": {
      "name": "python3",
      "display_name": "Python 3"
    },
    "language_info": {
      "name": "python"
    }
  },
  "cells": [
    {
      "cell_type": "markdown",
      "metadata": {
        "id": "view-in-github",
        "colab_type": "text"
      },
      "source": [
        "<a href=\"https://colab.research.google.com/github/tu22014/EU_M_Math-Repository/blob/main/chap02_Ex08.ipynb\" target=\"_parent\"><img src=\"https://colab.research.google.com/assets/colab-badge.svg\" alt=\"Open In Colab\"/></a>"
      ]
    },
    {
      "cell_type": "code",
      "execution_count": 1,
      "metadata": {
        "colab": {
          "base_uri": "https://localhost:8080/"
        },
        "id": "bDfB3WShGsz9",
        "outputId": "d55ee1a7-c897-4b27-b30a-825aea669903"
      },
      "outputs": [
        {
          "output_type": "execute_result",
          "data": {
            "text/plain": [
              "Sex\n",
              "F    1233.333333\n",
              "M     400.000000\n",
              "Name: Money, dtype: float64"
            ]
          },
          "metadata": {},
          "execution_count": 1
        }
      ],
      "source": [
        "import numpy as np\n",
        "import numpy.random as random\n",
        "import scipy as sp\n",
        "import pandas as pd\n",
        "from pandas import Series, DataFrame\n",
        "\n",
        "import matplotlib.pyplot as plt\n",
        "import matplotlib as mpl\n",
        "import seaborn as sns\n",
        "%matplotlib inline\n",
        "\n",
        "#小数点第3位まで表示\n",
        "%precision 3\n",
        "\n",
        "from pandas import Series, DataFrame\n",
        "import pandas as pd\n",
        "\n",
        "attri_data1 = {'ID':['1','2','3','4','5'],\n",
        "               'Sex':['F','F','M','M','F'],\n",
        "               'Money':[1000,2000,500,300,700],\n",
        "               'Name':['Saito','Horie','Kondo','Kawada','Matsubara']}\n",
        "attri_data_frame1 = DataFrame(attri_data1)\n",
        "\n",
        "#(2-8)\n",
        "#データのグループ集計\n",
        "attri_data_frame1.groupby('Sex')['Money'].mean()"
      ]
    }
  ]
}