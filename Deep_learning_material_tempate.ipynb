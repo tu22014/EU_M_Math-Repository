{
  "cells": [
    {
      "cell_type": "markdown",
      "metadata": {
        "id": "view-in-github",
        "colab_type": "text"
      },
      "source": [
        "<a href=\"https://colab.research.google.com/github/tu22014/EU_M_Math-Repository/blob/main/Deep_learning_material_tempate.ipynb\" target=\"_parent\"><img src=\"https://colab.research.google.com/assets/colab-badge.svg\" alt=\"Open In Colab\"/></a>"
      ]
    },
    {
      "cell_type": "markdown",
      "source": [
        "# DNN 教材"
      ],
      "metadata": {
        "id": "xaHVTzJ4G9Qb"
      }
    },
    {
      "cell_type": "markdown",
      "metadata": {
        "id": "JDFBVx0PvTy2"
      },
      "source": [
        "### Perceptron"
      ]
    },
    {
      "cell_type": "markdown",
      "metadata": {
        "id": "W6OWATZWvTy3"
      },
      "source": [
        "実際にPerceptronを使って、Irisの花の種類がIris Setosaかそれ以外かを判別するモデルを作る。\n",
        "\n",
        "__Dataset__ \n",
        "\n",
        "50個のIrisの花に関するレコードがある。がく片の幅、がく片の長さ、花弁の長さ、花弁の幅、Irisの花の種類が一つのレコードに含まれている。花の種類は、Iris Setosa、Iris VersicolourとIris Virginicaのどれか。\n",
        "\n",
        "__Goal__\n",
        "\n",
        "Irisのがく片と花弁の特徴を基に、IrisがIris Setosaかそれ以外かを判別するモデルを作る"
      ]
    },
    {
      "cell_type": "code",
      "execution_count": 1,
      "metadata": {
        "id": "OVZXi93mvTy3",
        "colab": {
          "base_uri": "https://localhost:8080/"
        },
        "outputId": "4fb26b0a-b8c1-4953-f2a1-eb76f8cd7b49"
      },
      "outputs": [
        {
          "output_type": "stream",
          "name": "stdout",
          "text": [
            "Accuracy:1.0\n"
          ]
        }
      ],
      "source": [
        "import numpy as np \n",
        "from sklearn.datasets import load_iris \n",
        "from sklearn.linear_model import Perceptron\n",
        "from sklearn.model_selection import train_test_split\n",
        "from sklearn.metrics import accuracy_score\n",
        "\n",
        "#データセットをロード\n",
        "iris = load_iris()\n",
        "#predictor と　target に分ける\n",
        "X = iris.data\n",
        "#Iris Setosaが１の値をとり、それ以外は０\n",
        "Y = (iris.target==0).astype(int)\n",
        "\n",
        "#データセットのシャッフルをして、トレーニング用とテスト用のデータに分ける\n",
        "#モデルの評価をしっかりやりたい時は、cross validationを実行、さらにハイパーパラメータの最適化を行う\n",
        "train_X, test_X, train_Y, test_Y = train_test_split(X,Y,test_size = 0.3, random_state=42, shuffle=True)\n",
        "\n",
        "#トレーニング\n",
        "perc_clf = Perceptron()\n",
        "perc_clf.fit(train_X,train_Y)\n",
        "\n",
        "#テスト\n",
        "predictions = perc_clf.predict(test_X)\n",
        "\n",
        "#Accuracyを計算\n",
        "print('Accuracy:' +str(accuracy_score(test_Y,predictions)))"
      ]
    },
    {
      "cell_type": "markdown",
      "metadata": {
        "id": "NUDPWu9CvTy5"
      },
      "source": [
        "### Multi Layer Perceptron using Scikit learn"
      ]
    },
    {
      "cell_type": "markdown",
      "metadata": {
        "id": "F6A-qF2rvTy5"
      },
      "source": [
        "Multi Layer Perceptronを使って、3つのIrisの種類を判別するモデルを作る\n",
        "\n",
        "__Dataset__\n",
        "\n",
        "前回と同じ\n",
        "\n",
        "__Goal__\n",
        "\n",
        "Irisのがく片と花弁の特徴を基に、Irisの花がIris Setosa、Iris Versicolour、それともIris Virginicaかを判別する。\n",
        "\n",
        "__Note__\n",
        "\n",
        "\n",
        "*   一つのクラスの判別に一つのoutput nodeが必要なので、3つのoutput nodeが必要。ただコードを書く際にこの指定は不要。\n",
        "\n",
        "*   一つ一つのアウトプットノードはそのクラスに当てはまる確率を計算して、出力。\n",
        "\n",
        "\n",
        "\n",
        "*   一つのレコードに対して一つのクラスが割り当てられているので、その三つのoutput node から出てくる確率の合計は１になる必要がある。\n",
        "\n"
      ]
    },
    {
      "cell_type": "code",
      "execution_count": 2,
      "metadata": {
        "id": "fqXSwyakvTy5",
        "colab": {
          "base_uri": "https://localhost:8080/"
        },
        "outputId": "a91897d6-4e29-4475-99fe-20d1eb67dfad"
      },
      "outputs": [
        {
          "output_type": "stream",
          "name": "stdout",
          "text": [
            "Accuracy:0.9777777777777777\n"
          ]
        }
      ],
      "source": [
        "from sklearn.datasets import load_iris\n",
        "from sklearn.neural_network import MLPClassifier\n",
        "from sklearn.model_selection import train_test_split\n",
        "from sklearn.metrics import accuracy_score\n",
        "#データセットをロード\n",
        "iris = load_iris()\n",
        "#predictor と　target に分ける\n",
        "X = iris.data\n",
        "Y = iris.target\n",
        "\n",
        "#データセットのシャッフルをして、トレーニング用とテスト用のデータに分ける\n",
        "#モデルの評価をしっかりやりたい時は、validationのデータセットを作るのが良い。\n",
        "train_X, test_X, train_Y, test_Y = train_test_split(X,Y,test_size = 0.3, random_state=42, shuffle=True)\n",
        "\n",
        "#二つのHidden Layer を追加、それぞれ10個のニューロンを持つ\n",
        "mlp_clsf = MLPClassifier((10,10),activation='relu',learning_rate='constant',learning_rate_init=0.001,max_iter=1000,random_state=42)\n",
        "mlp_clsf.fit(train_X, train_Y)\n",
        "predictions = mlp_clsf.predict(test_X)\n",
        "print('Accuracy:'+str(accuracy_score(test_Y,predictions)))\n"
      ]
    },
    {
      "cell_type": "code",
      "execution_count": 3,
      "metadata": {
        "id": "XfyE9k6SvTy6",
        "colab": {
          "base_uri": "https://localhost:8080/"
        },
        "outputId": "11802b86-8702-444a-b9dc-1248f6620471"
      },
      "outputs": [
        {
          "output_type": "execute_result",
          "data": {
            "text/plain": [
              "1.0"
            ]
          },
          "metadata": {},
          "execution_count": 3
        }
      ],
      "source": [
        "#確率の合計が１かを確認\n",
        "mlp_clsf.predict_proba(test_X[0].reshape(1,-1)).sum()\n"
      ]
    },
    {
      "cell_type": "markdown",
      "metadata": {
        "id": "AQI7-M9KvTy6"
      },
      "source": [
        "### Activation Function "
      ]
    },
    {
      "cell_type": "markdown",
      "source": [
        "このMLPにSoftmaxがactivation functionとして使われている"
      ],
      "metadata": {
        "id": "k7_W11IYID2p"
      }
    },
    {
      "cell_type": "code",
      "execution_count": 4,
      "metadata": {
        "id": "ffl1_qbxvTy7",
        "colab": {
          "base_uri": "https://localhost:8080/",
          "height": 36
        },
        "outputId": "400c64b3-8b2a-437a-e0bf-d0684804c957"
      },
      "outputs": [
        {
          "output_type": "execute_result",
          "data": {
            "text/plain": [
              "'softmax'"
            ],
            "application/vnd.google.colaboratory.intrinsic+json": {
              "type": "string"
            }
          },
          "metadata": {},
          "execution_count": 4
        }
      ],
      "source": [
        "mlp_clsf.out_activation_"
      ]
    },
    {
      "cell_type": "markdown",
      "metadata": {
        "id": "xEC5-Px4vTy7"
      },
      "source": [
        "## MLP Regression "
      ]
    },
    {
      "cell_type": "markdown",
      "metadata": {
        "id": "ENGVw0vUvTy7"
      },
      "source": [
        "MLP Regressorを用いて、ボストンの住宅価格(単位は1000$)を予測するモデルを作る\n",
        "\n",
        "__Dataset__ \n",
        "\n",
        "1970年代のボストン郊外の住宅地に関するデータセット。ボストン郊外の異なるロケーションで13個の住宅に関する変数と住宅の価格の中央値が記録されている。506個のレコードが記録されている。\n",
        "\n",
        "__Goal__\n",
        "\n",
        "その中央値を13個の変数を基に予測する。\n",
        "\n",
        "\n",
        "　"
      ]
    },
    {
      "cell_type": "code",
      "execution_count": 5,
      "metadata": {
        "scrolled": true,
        "id": "fC6bRC1PvTy7",
        "colab": {
          "base_uri": "https://localhost:8080/"
        },
        "outputId": "93e74f99-e7bd-4348-c3aa-8bf4654cca60"
      },
      "outputs": [
        {
          "output_type": "stream",
          "name": "stderr",
          "text": [
            "/usr/local/lib/python3.7/dist-packages/sklearn/utils/deprecation.py:87: FutureWarning: Function load_boston is deprecated; `load_boston` is deprecated in 1.0 and will be removed in 1.2.\n",
            "\n",
            "    The Boston housing prices dataset has an ethical problem. You can refer to\n",
            "    the documentation of this function for further details.\n",
            "\n",
            "    The scikit-learn maintainers therefore strongly discourage the use of this\n",
            "    dataset unless the purpose of the code is to study and educate about\n",
            "    ethical issues in data science and machine learning.\n",
            "\n",
            "    In this special case, you can fetch the dataset from the original\n",
            "    source::\n",
            "\n",
            "        import pandas as pd\n",
            "        import numpy as np\n",
            "\n",
            "\n",
            "        data_url = \"http://lib.stat.cmu.edu/datasets/boston\"\n",
            "        raw_df = pd.read_csv(data_url, sep=\"\\s+\", skiprows=22, header=None)\n",
            "        data = np.hstack([raw_df.values[::2, :], raw_df.values[1::2, :2]])\n",
            "        target = raw_df.values[1::2, 2]\n",
            "\n",
            "    Alternative datasets include the California housing dataset (i.e.\n",
            "    :func:`~sklearn.datasets.fetch_california_housing`) and the Ames housing\n",
            "    dataset. You can load the datasets as follows::\n",
            "\n",
            "        from sklearn.datasets import fetch_california_housing\n",
            "        housing = fetch_california_housing()\n",
            "\n",
            "    for the California housing dataset and::\n",
            "\n",
            "        from sklearn.datasets import fetch_openml\n",
            "        housing = fetch_openml(name=\"house_prices\", as_frame=True)\n",
            "\n",
            "    for the Ames housing dataset.\n",
            "    \n",
            "  warnings.warn(msg, category=FutureWarning)\n"
          ]
        },
        {
          "output_type": "stream",
          "name": "stdout",
          "text": [
            "RSME:4.699377521565086\n"
          ]
        }
      ],
      "source": [
        "from sklearn.datasets import load_boston\n",
        "from sklearn.neural_network import MLPRegressor\n",
        "from sklearn.model_selection import train_test_split\n",
        "from sklearn.metrics import mean_squared_error\n",
        "\n",
        "#データセットをロード\n",
        "dataset = load_boston()\n",
        "X = dataset['data']\n",
        "Y = dataset['target']\n",
        "#テストとトレーニングのデータセットに分ける\n",
        "#モデルの評価をしっかりやりたい時は、validationのデータセットを作るのが良い。\n",
        "train_X, test_X, train_Y, test_Y = train_test_split(X,Y,test_size = 0.3, random_state = 42, shuffle = True)\n",
        "\n",
        "#２個のhidden layerを追加　activation function は relu.\n",
        "mlp_reg = MLPRegressor((10,10),activation = 'relu',learning_rate='constant',learning_rate_init=0.001,max_iter=3000,random_state=42)\n",
        "mlp_reg.fit(train_X,train_Y)\n",
        "predictions = mlp_reg.predict(test_X)\n",
        "\n",
        "#RSMEを計算\n",
        "error = mean_squared_error(test_Y,predictions)**(1/2)\n",
        "print('RSME:'+str(error))\n",
        "\n"
      ]
    },
    {
      "cell_type": "markdown",
      "metadata": {
        "id": "VfeMh6E7vTy8"
      },
      "source": [
        "::アウトプットノードのActivation functionはIdentity。（Activation function は使われていないということ。）"
      ]
    },
    {
      "cell_type": "code",
      "execution_count": 6,
      "metadata": {
        "scrolled": true,
        "id": "yLfuWPKWvTy8",
        "colab": {
          "base_uri": "https://localhost:8080/",
          "height": 36
        },
        "outputId": "73d44277-8c2f-4cc7-cc8c-34759c076bd8"
      },
      "outputs": [
        {
          "output_type": "execute_result",
          "data": {
            "text/plain": [
              "'identity'"
            ],
            "application/vnd.google.colaboratory.intrinsic+json": {
              "type": "string"
            }
          },
          "metadata": {},
          "execution_count": 6
        }
      ],
      "source": [
        "mlp_reg.out_activation_"
      ]
    },
    {
      "cell_type": "markdown",
      "metadata": {
        "id": "KFaUB_E7vTy8"
      },
      "source": [
        "## Regression using Keras  "
      ]
    },
    {
      "cell_type": "code",
      "execution_count": 7,
      "metadata": {
        "scrolled": true,
        "id": "36cxPugbvTy8",
        "colab": {
          "base_uri": "https://localhost:8080/"
        },
        "outputId": "c633d51f-f149-43c4-a643-ac092057f5a4"
      },
      "outputs": [
        {
          "output_type": "stream",
          "name": "stdout",
          "text": [
            "Downloading data from https://storage.googleapis.com/tensorflow/tf-keras-datasets/boston_housing.npz\n",
            "57344/57026 [==============================] - 0s 0us/step\n",
            "65536/57026 [==================================] - 0s 0us/step\n",
            "Model: \"sequential\"\n",
            "_________________________________________________________________\n",
            " Layer (type)                Output Shape              Param #   \n",
            "=================================================================\n",
            " dense (Dense)               (None, 30)                420       \n",
            "                                                                 \n",
            " dense_1 (Dense)             (None, 1)                 31        \n",
            "                                                                 \n",
            "=================================================================\n",
            "Total params: 451\n",
            "Trainable params: 451\n",
            "Non-trainable params: 0\n",
            "_________________________________________________________________\n",
            "Epoch 1/70\n",
            "10/10 [==============================] - 2s 42ms/step - loss: 233.1969 - root_mean_squared_error: 15.2708 - val_loss: 71.4291 - val_root_mean_squared_error: 8.4516\n",
            "Epoch 2/70\n",
            "10/10 [==============================] - 0s 9ms/step - loss: 24.0720 - root_mean_squared_error: 4.9063 - val_loss: 59.5823 - val_root_mean_squared_error: 7.7190\n",
            "Epoch 3/70\n",
            "10/10 [==============================] - 0s 10ms/step - loss: 18.3644 - root_mean_squared_error: 4.2854 - val_loss: 48.5039 - val_root_mean_squared_error: 6.9645\n",
            "Epoch 4/70\n",
            "10/10 [==============================] - 0s 13ms/step - loss: 15.2889 - root_mean_squared_error: 3.9101 - val_loss: 45.4338 - val_root_mean_squared_error: 6.7405\n",
            "Epoch 5/70\n",
            "10/10 [==============================] - 0s 9ms/step - loss: 13.5850 - root_mean_squared_error: 3.6858 - val_loss: 44.1177 - val_root_mean_squared_error: 6.6421\n",
            "Epoch 6/70\n",
            "10/10 [==============================] - 0s 14ms/step - loss: 13.9520 - root_mean_squared_error: 3.7352 - val_loss: 44.5122 - val_root_mean_squared_error: 6.6717\n",
            "Epoch 7/70\n",
            "10/10 [==============================] - 0s 11ms/step - loss: 10.8325 - root_mean_squared_error: 3.2913 - val_loss: 38.4363 - val_root_mean_squared_error: 6.1997\n",
            "Epoch 8/70\n",
            "10/10 [==============================] - 0s 9ms/step - loss: 10.6699 - root_mean_squared_error: 3.2665 - val_loss: 34.6049 - val_root_mean_squared_error: 5.8826\n",
            "Epoch 9/70\n",
            "10/10 [==============================] - 0s 18ms/step - loss: 11.5724 - root_mean_squared_error: 3.4018 - val_loss: 36.4582 - val_root_mean_squared_error: 6.0381\n",
            "Epoch 10/70\n",
            "10/10 [==============================] - 0s 9ms/step - loss: 9.5503 - root_mean_squared_error: 3.0904 - val_loss: 36.5131 - val_root_mean_squared_error: 6.0426\n",
            "Epoch 11/70\n",
            "10/10 [==============================] - 0s 14ms/step - loss: 10.3191 - root_mean_squared_error: 3.2123 - val_loss: 34.6616 - val_root_mean_squared_error: 5.8874\n",
            "Epoch 12/70\n",
            "10/10 [==============================] - 0s 18ms/step - loss: 9.2201 - root_mean_squared_error: 3.0365 - val_loss: 34.7981 - val_root_mean_squared_error: 5.8990\n",
            "Epoch 13/70\n",
            "10/10 [==============================] - 0s 10ms/step - loss: 10.4275 - root_mean_squared_error: 3.2292 - val_loss: 35.5318 - val_root_mean_squared_error: 5.9609\n",
            "Epoch 14/70\n",
            "10/10 [==============================] - 0s 10ms/step - loss: 9.8299 - root_mean_squared_error: 3.1353 - val_loss: 27.1790 - val_root_mean_squared_error: 5.2133\n",
            "Epoch 15/70\n",
            "10/10 [==============================] - 0s 8ms/step - loss: 10.0387 - root_mean_squared_error: 3.1684 - val_loss: 32.1169 - val_root_mean_squared_error: 5.6672\n",
            "Epoch 16/70\n",
            "10/10 [==============================] - 0s 8ms/step - loss: 8.9002 - root_mean_squared_error: 2.9833 - val_loss: 37.2147 - val_root_mean_squared_error: 6.1004\n",
            "Epoch 17/70\n",
            "10/10 [==============================] - 0s 9ms/step - loss: 9.7496 - root_mean_squared_error: 3.1224 - val_loss: 28.8803 - val_root_mean_squared_error: 5.3740\n",
            "Epoch 18/70\n",
            "10/10 [==============================] - 0s 12ms/step - loss: 8.1310 - root_mean_squared_error: 2.8515 - val_loss: 33.5259 - val_root_mean_squared_error: 5.7902\n",
            "Epoch 19/70\n",
            "10/10 [==============================] - 0s 15ms/step - loss: 8.1084 - root_mean_squared_error: 2.8475 - val_loss: 24.7909 - val_root_mean_squared_error: 4.9790\n",
            "Epoch 20/70\n",
            "10/10 [==============================] - 0s 12ms/step - loss: 8.7061 - root_mean_squared_error: 2.9506 - val_loss: 28.0145 - val_root_mean_squared_error: 5.2929\n",
            "Epoch 21/70\n",
            "10/10 [==============================] - 0s 10ms/step - loss: 8.7637 - root_mean_squared_error: 2.9604 - val_loss: 38.3109 - val_root_mean_squared_error: 6.1896\n",
            "Epoch 22/70\n",
            "10/10 [==============================] - 0s 9ms/step - loss: 8.5083 - root_mean_squared_error: 2.9169 - val_loss: 29.8317 - val_root_mean_squared_error: 5.4618\n",
            "Epoch 23/70\n",
            "10/10 [==============================] - 0s 14ms/step - loss: 9.4167 - root_mean_squared_error: 3.0687 - val_loss: 35.1404 - val_root_mean_squared_error: 5.9279\n",
            "Epoch 24/70\n",
            "10/10 [==============================] - 0s 9ms/step - loss: 8.9291 - root_mean_squared_error: 2.9882 - val_loss: 34.3640 - val_root_mean_squared_error: 5.8621\n",
            "Epoch 25/70\n",
            "10/10 [==============================] - 0s 10ms/step - loss: 7.9094 - root_mean_squared_error: 2.8124 - val_loss: 32.2306 - val_root_mean_squared_error: 5.6772\n",
            "Epoch 26/70\n",
            "10/10 [==============================] - 0s 11ms/step - loss: 8.1435 - root_mean_squared_error: 2.8537 - val_loss: 27.5274 - val_root_mean_squared_error: 5.2467\n",
            "Epoch 27/70\n",
            "10/10 [==============================] - 0s 9ms/step - loss: 8.5596 - root_mean_squared_error: 2.9257 - val_loss: 25.9423 - val_root_mean_squared_error: 5.0934\n",
            "Epoch 28/70\n",
            "10/10 [==============================] - 0s 10ms/step - loss: 7.6368 - root_mean_squared_error: 2.7635 - val_loss: 29.1931 - val_root_mean_squared_error: 5.4031\n",
            "Epoch 29/70\n",
            "10/10 [==============================] - 0s 8ms/step - loss: 7.6008 - root_mean_squared_error: 2.7570 - val_loss: 38.4859 - val_root_mean_squared_error: 6.2037\n",
            "Epoch 30/70\n",
            "10/10 [==============================] - 0s 9ms/step - loss: 10.1054 - root_mean_squared_error: 3.1789 - val_loss: 25.6853 - val_root_mean_squared_error: 5.0681\n",
            "Epoch 31/70\n",
            "10/10 [==============================] - 0s 14ms/step - loss: 7.8280 - root_mean_squared_error: 2.7979 - val_loss: 30.5166 - val_root_mean_squared_error: 5.5242\n",
            "Epoch 32/70\n",
            "10/10 [==============================] - 0s 10ms/step - loss: 7.5179 - root_mean_squared_error: 2.7419 - val_loss: 27.4653 - val_root_mean_squared_error: 5.2407\n",
            "Epoch 33/70\n",
            "10/10 [==============================] - 0s 12ms/step - loss: 7.4954 - root_mean_squared_error: 2.7378 - val_loss: 25.6565 - val_root_mean_squared_error: 5.0652\n",
            "Epoch 34/70\n",
            "10/10 [==============================] - 0s 10ms/step - loss: 7.6742 - root_mean_squared_error: 2.7702 - val_loss: 27.5568 - val_root_mean_squared_error: 5.2495\n",
            "Epoch 35/70\n",
            "10/10 [==============================] - 0s 9ms/step - loss: 7.5336 - root_mean_squared_error: 2.7447 - val_loss: 29.0414 - val_root_mean_squared_error: 5.3890\n",
            "Epoch 36/70\n",
            "10/10 [==============================] - 0s 13ms/step - loss: 7.1258 - root_mean_squared_error: 2.6694 - val_loss: 27.8263 - val_root_mean_squared_error: 5.2751\n",
            "Epoch 37/70\n",
            "10/10 [==============================] - 0s 10ms/step - loss: 7.4364 - root_mean_squared_error: 2.7270 - val_loss: 24.8682 - val_root_mean_squared_error: 4.9868\n",
            "Epoch 38/70\n",
            "10/10 [==============================] - 0s 14ms/step - loss: 7.7771 - root_mean_squared_error: 2.7888 - val_loss: 28.8524 - val_root_mean_squared_error: 5.3714\n",
            "Epoch 39/70\n",
            "10/10 [==============================] - 0s 13ms/step - loss: 8.2607 - root_mean_squared_error: 2.8741 - val_loss: 23.1109 - val_root_mean_squared_error: 4.8074\n",
            "Epoch 40/70\n",
            "10/10 [==============================] - 0s 13ms/step - loss: 6.9615 - root_mean_squared_error: 2.6385 - val_loss: 30.6642 - val_root_mean_squared_error: 5.5375\n",
            "Epoch 41/70\n",
            "10/10 [==============================] - 0s 13ms/step - loss: 7.4240 - root_mean_squared_error: 2.7247 - val_loss: 29.4423 - val_root_mean_squared_error: 5.4261\n",
            "Epoch 42/70\n",
            "10/10 [==============================] - 0s 14ms/step - loss: 7.2154 - root_mean_squared_error: 2.6861 - val_loss: 24.2859 - val_root_mean_squared_error: 4.9281\n",
            "Epoch 43/70\n",
            "10/10 [==============================] - 0s 17ms/step - loss: 6.8417 - root_mean_squared_error: 2.6157 - val_loss: 25.4464 - val_root_mean_squared_error: 5.0444\n",
            "Epoch 44/70\n",
            "10/10 [==============================] - 0s 13ms/step - loss: 8.0201 - root_mean_squared_error: 2.8320 - val_loss: 26.0723 - val_root_mean_squared_error: 5.1061\n",
            "Epoch 45/70\n",
            "10/10 [==============================] - 0s 9ms/step - loss: 7.3280 - root_mean_squared_error: 2.7070 - val_loss: 24.5040 - val_root_mean_squared_error: 4.9502\n",
            "Epoch 46/70\n",
            "10/10 [==============================] - 0s 21ms/step - loss: 6.5022 - root_mean_squared_error: 2.5499 - val_loss: 22.7668 - val_root_mean_squared_error: 4.7715\n",
            "Epoch 47/70\n",
            "10/10 [==============================] - 0s 18ms/step - loss: 7.7690 - root_mean_squared_error: 2.7873 - val_loss: 28.1405 - val_root_mean_squared_error: 5.3048\n",
            "Epoch 48/70\n",
            "10/10 [==============================] - 0s 17ms/step - loss: 7.2404 - root_mean_squared_error: 2.6908 - val_loss: 25.7968 - val_root_mean_squared_error: 5.0791\n",
            "Epoch 49/70\n",
            "10/10 [==============================] - 0s 14ms/step - loss: 7.3706 - root_mean_squared_error: 2.7149 - val_loss: 26.6227 - val_root_mean_squared_error: 5.1597\n",
            "Epoch 50/70\n",
            "10/10 [==============================] - 0s 11ms/step - loss: 7.1376 - root_mean_squared_error: 2.6716 - val_loss: 23.9567 - val_root_mean_squared_error: 4.8946\n",
            "Epoch 51/70\n",
            "10/10 [==============================] - 0s 9ms/step - loss: 6.5746 - root_mean_squared_error: 2.5641 - val_loss: 25.2161 - val_root_mean_squared_error: 5.0216\n",
            "Epoch 52/70\n",
            "10/10 [==============================] - 0s 15ms/step - loss: 7.1551 - root_mean_squared_error: 2.6749 - val_loss: 30.6125 - val_root_mean_squared_error: 5.5329\n",
            "Epoch 53/70\n",
            "10/10 [==============================] - 0s 16ms/step - loss: 6.9455 - root_mean_squared_error: 2.6354 - val_loss: 24.6862 - val_root_mean_squared_error: 4.9685\n",
            "Epoch 54/70\n",
            "10/10 [==============================] - 0s 15ms/step - loss: 6.7387 - root_mean_squared_error: 2.5959 - val_loss: 21.5484 - val_root_mean_squared_error: 4.6420\n",
            "Epoch 55/70\n",
            "10/10 [==============================] - 0s 11ms/step - loss: 6.2100 - root_mean_squared_error: 2.4920 - val_loss: 28.8676 - val_root_mean_squared_error: 5.3729\n",
            "Epoch 56/70\n",
            "10/10 [==============================] - 0s 8ms/step - loss: 8.0278 - root_mean_squared_error: 2.8333 - val_loss: 30.0411 - val_root_mean_squared_error: 5.4810\n",
            "Epoch 57/70\n",
            "10/10 [==============================] - 0s 11ms/step - loss: 7.1001 - root_mean_squared_error: 2.6646 - val_loss: 23.9489 - val_root_mean_squared_error: 4.8938\n",
            "Epoch 58/70\n",
            "10/10 [==============================] - 0s 16ms/step - loss: 7.4116 - root_mean_squared_error: 2.7224 - val_loss: 23.6398 - val_root_mean_squared_error: 4.8621\n",
            "Epoch 59/70\n",
            "10/10 [==============================] - 0s 12ms/step - loss: 6.6085 - root_mean_squared_error: 2.5707 - val_loss: 24.1210 - val_root_mean_squared_error: 4.9113\n",
            "Epoch 60/70\n",
            "10/10 [==============================] - 0s 11ms/step - loss: 7.7907 - root_mean_squared_error: 2.7912 - val_loss: 26.8313 - val_root_mean_squared_error: 5.1799\n",
            "Epoch 61/70\n",
            "10/10 [==============================] - 0s 9ms/step - loss: 7.7432 - root_mean_squared_error: 2.7827 - val_loss: 21.2942 - val_root_mean_squared_error: 4.6146\n",
            "Epoch 62/70\n",
            "10/10 [==============================] - 0s 11ms/step - loss: 6.3536 - root_mean_squared_error: 2.5206 - val_loss: 26.8381 - val_root_mean_squared_error: 5.1806\n",
            "Epoch 63/70\n",
            "10/10 [==============================] - 0s 7ms/step - loss: 6.9469 - root_mean_squared_error: 2.6357 - val_loss: 23.3649 - val_root_mean_squared_error: 4.8337\n",
            "Epoch 64/70\n",
            "10/10 [==============================] - 0s 14ms/step - loss: 6.3105 - root_mean_squared_error: 2.5121 - val_loss: 25.0570 - val_root_mean_squared_error: 5.0057\n",
            "Epoch 65/70\n",
            "10/10 [==============================] - 0s 17ms/step - loss: 6.1329 - root_mean_squared_error: 2.4765 - val_loss: 23.9180 - val_root_mean_squared_error: 4.8906\n",
            "Epoch 66/70\n",
            "10/10 [==============================] - 0s 14ms/step - loss: 6.6838 - root_mean_squared_error: 2.5853 - val_loss: 22.9447 - val_root_mean_squared_error: 4.7901\n",
            "Epoch 67/70\n",
            "10/10 [==============================] - 0s 11ms/step - loss: 6.3288 - root_mean_squared_error: 2.5157 - val_loss: 20.5454 - val_root_mean_squared_error: 4.5327\n",
            "Epoch 68/70\n",
            "10/10 [==============================] - 0s 9ms/step - loss: 6.4003 - root_mean_squared_error: 2.5299 - val_loss: 26.1433 - val_root_mean_squared_error: 5.1130\n",
            "Epoch 69/70\n",
            "10/10 [==============================] - 0s 17ms/step - loss: 6.2821 - root_mean_squared_error: 2.5064 - val_loss: 32.1350 - val_root_mean_squared_error: 5.6688\n",
            "Epoch 70/70\n",
            "10/10 [==============================] - 0s 18ms/step - loss: 6.5475 - root_mean_squared_error: 2.5588 - val_loss: 23.6378 - val_root_mean_squared_error: 4.8619\n"
          ]
        }
      ],
      "source": [
        "import tensorflow as tf \n",
        "from tensorflow import keras\n",
        "from sklearn.preprocessing import StandardScaler\n",
        "\n",
        "#データセットをダウンロード\n",
        "house_price = keras.datasets.boston_housing\n",
        "#データをtraining, validation, test に分ける\n",
        "(train_X, train_Y),(test_X, test_Y) = house_price.load_data()\n",
        "train_X, valid_X, train_Y, valid_Y = train_test_split(train_X, train_Y)\n",
        "\n",
        "#変数をスケーリング　最適化を早くするため\n",
        "scaler = StandardScaler()\n",
        "train_X = scaler.fit_transform(train_X)\n",
        "valid_X = scaler.fit_transform(valid_X)\n",
        "test_X = scaler.fit_transform(test_X)\n",
        "\n",
        "#KerasのSequential model を使う\n",
        "keras_model = keras.models.Sequential()\n",
        "#インプットレイヤーを追加\n",
        "keras_model.add(tf.keras.Input(shape=train_X.shape[1:],))\n",
        "#Hidden layer を追加\n",
        "keras_model.add(tf.keras.layers.Dense(30,activation='relu'))\n",
        "#Output layer を追加\n",
        "keras_model.add(tf.keras.layers.Dense(1))\n",
        "\n",
        "keras_model.summary()\n",
        "\n",
        "#モデルをコンパイル\n",
        "keras_model.compile(loss='mean_squared_error', optimizer='sgd',metrics=[tf.keras.metrics.RootMeanSquaredError(\n",
        "    name='root_mean_squared_error',dtype=None\n",
        ")])\n",
        "#モデルをトレーニング\n",
        "#validationのデータセットがあれば、それを渡すことで、validationに関してのlossやRMSEの計算なども簡単にできる。\n",
        "history = keras_model.fit(train_X, train_Y, epochs=70,validation_data=(valid_X,valid_Y))\n"
      ]
    },
    {
      "cell_type": "markdown",
      "source": [
        "損失関数とRMSEの値をエポックごとにプロットする。ValidationとTraningのデータセットのそれぞれに、その二つの値が計算されている。　エポックはトレーニングのデータセットを何回学習したかを表します。ニューラルネットでは一つのトレーニングのデータセットを何回も学習させます。"
      ],
      "metadata": {
        "id": "nudpvV9FNTI8"
      }
    },
    {
      "cell_type": "code",
      "execution_count": 8,
      "metadata": {
        "id": "QeqAypyevTy9",
        "colab": {
          "base_uri": "https://localhost:8080/",
          "height": 501
        },
        "outputId": "67e8e0fb-b266-47eb-ea5d-3899d7bc1769"
      },
      "outputs": [
        {
          "output_type": "display_data",
          "data": {
            "text/plain": [
              "<Figure size 720x576 with 1 Axes>"
            ],
            "image/png": "[encoded data removed]"
          },
          "metadata": {
            "needs_background": "light"
          }
        }
      ],
      "source": [
        "import pandas as pd \n",
        "import matplotlib.pyplot as plt\n",
        "pd.DataFrame(history.history).plot(figsize=(10,8))\n",
        "plt.grid(True)\n",
        "plt.gca().set_ylim(0,60)\n",
        "plt.xlabel('# of Epocs')\n",
        "plt.show()"
      ]
    },
    {
      "cell_type": "markdown",
      "source": [
        "Test Datasetにモデルを適応して、RMSEを計算"
      ],
      "metadata": {
        "id": "3xW99aZMN49B"
      }
    },
    {
      "cell_type": "code",
      "execution_count": 9,
      "metadata": {
        "id": "AA35BTjJvTy9",
        "colab": {
          "base_uri": "https://localhost:8080/"
        },
        "outputId": "5686bde0-9684-4dc0-b4a9-5d78e0237f0d"
      },
      "outputs": [
        {
          "output_type": "execute_result",
          "data": {
            "text/plain": [
              "4.207032938357155"
            ]
          },
          "metadata": {},
          "execution_count": 9
        }
      ],
      "source": [
        "mean_squared_error(test_Y,keras_model.predict(test_X)) ** (1/2)"
      ]
    },
    {
      "cell_type": "markdown",
      "metadata": {
        "id": "7hXlz7iBvTy9"
      },
      "source": [
        "## Classificaiton using Keras "
      ]
    },
    {
      "cell_type": "markdown",
      "source": [
        "Dataset\n",
        "\n",
        "手書きの数字を表したイメージが含まれている。イメージは28*28で全７８４ピクセル。\n",
        "\n",
        "Goal \n",
        "\n",
        "イメージが０から９のどの数字なのかを判別する。"
      ],
      "metadata": {
        "id": "7H6eGUDslmQR"
      }
    },
    {
      "cell_type": "code",
      "execution_count": 15,
      "metadata": {
        "id": "f-R9_s0IvTy9"
      },
      "outputs": [],
      "source": [
        "#データをダウンロードして、トレーニングとテストに分ける\n",
        "(train_X,train_Y),(test_X, test_Y) = tf.keras.datasets.mnist.load_data(path='mnist.npz')\n"
      ]
    },
    {
      "cell_type": "code",
      "execution_count": 16,
      "metadata": {
        "scrolled": true,
        "id": "caiVoYtgvTy9",
        "colab": {
          "base_uri": "https://localhost:8080/",
          "height": 265
        },
        "outputId": "3a9b11e1-7623-49fc-aabb-44eb668fb223"
      },
      "outputs": [
        {
          "output_type": "display_data",
          "data": {
            "text/plain": [
              "<Figure size 432x288 with 1 Axes>"
            ],
            "image/png": "[encoded data removed]"
          },
          "metadata": {
            "needs_background": "light"
          }
        }
      ],
      "source": [
        "#イメージを実際に視覚化してみる\n",
        "from matplotlib import pyplot as plt\n",
        "plt.imshow(train_X[0],cmap='Greys')\n",
        "plt.show()"
      ]
    },
    {
      "cell_type": "code",
      "execution_count": 17,
      "metadata": {
        "scrolled": true,
        "id": "enlaIOA1vTy9",
        "colab": {
          "base_uri": "https://localhost:8080/"
        },
        "outputId": "8186b79f-08a3-4dec-ba4b-ce4386d107af"
      },
      "outputs": [
        {
          "output_type": "stream",
          "name": "stdout",
          "text": [
            "Model: \"sequential_1\"\n",
            "_________________________________________________________________\n",
            " Layer (type)                Output Shape              Param #   \n",
            "=================================================================\n",
            " flatten (Flatten)           (None, 784)               0         \n",
            "                                                                 \n",
            " dense_2 (Dense)             (None, 10)                7850      \n",
            "                                                                 \n",
            "=================================================================\n",
            "Total params: 7,850\n",
            "Trainable params: 7,850\n",
            "Non-trainable params: 0\n",
            "_________________________________________________________________\n",
            "Epoch 1/20\n",
            "1407/1407 [==============================] - 3s 2ms/step - loss: 0.8651 - accuracy: 0.7955 - val_loss: 0.5452 - val_accuracy: 0.8673\n",
            "Epoch 2/20\n",
            "1407/1407 [==============================] - 3s 2ms/step - loss: 0.4964 - accuracy: 0.8717 - val_loss: 0.4480 - val_accuracy: 0.8841\n",
            "Epoch 3/20\n",
            "1407/1407 [==============================] - 3s 2ms/step - loss: 0.4331 - accuracy: 0.8845 - val_loss: 0.4075 - val_accuracy: 0.8926\n",
            "Epoch 4/20\n",
            "1407/1407 [==============================] - 3s 2ms/step - loss: 0.4016 - accuracy: 0.8903 - val_loss: 0.3847 - val_accuracy: 0.8989\n",
            "Epoch 5/20\n",
            "1407/1407 [==============================] - 3s 2ms/step - loss: 0.3816 - accuracy: 0.8950 - val_loss: 0.3703 - val_accuracy: 0.8994\n",
            "Epoch 6/20\n",
            "1407/1407 [==============================] - 3s 2ms/step - loss: 0.3676 - accuracy: 0.8982 - val_loss: 0.3581 - val_accuracy: 0.9018\n",
            "Epoch 7/20\n",
            "1407/1407 [==============================] - 3s 2ms/step - loss: 0.3568 - accuracy: 0.9004 - val_loss: 0.3491 - val_accuracy: 0.9045\n",
            "Epoch 8/20\n",
            "1407/1407 [==============================] - 3s 2ms/step - loss: 0.3482 - accuracy: 0.9027 - val_loss: 0.3422 - val_accuracy: 0.9062\n",
            "Epoch 9/20\n",
            "1407/1407 [==============================] - 3s 2ms/step - loss: 0.3412 - accuracy: 0.9040 - val_loss: 0.3371 - val_accuracy: 0.9085\n",
            "Epoch 10/20\n",
            "1407/1407 [==============================] - 3s 2ms/step - loss: 0.3353 - accuracy: 0.9062 - val_loss: 0.3318 - val_accuracy: 0.9091\n",
            "Epoch 11/20\n",
            "1407/1407 [==============================] - 3s 2ms/step - loss: 0.3303 - accuracy: 0.9070 - val_loss: 0.3284 - val_accuracy: 0.9097\n",
            "Epoch 12/20\n",
            "1407/1407 [==============================] - 3s 2ms/step - loss: 0.3260 - accuracy: 0.9081 - val_loss: 0.3242 - val_accuracy: 0.9114\n",
            "Epoch 13/20\n",
            "1407/1407 [==============================] - 3s 2ms/step - loss: 0.3220 - accuracy: 0.9090 - val_loss: 0.3216 - val_accuracy: 0.9115\n",
            "Epoch 14/20\n",
            "1407/1407 [==============================] - 3s 2ms/step - loss: 0.3186 - accuracy: 0.9103 - val_loss: 0.3180 - val_accuracy: 0.9132\n",
            "Epoch 15/20\n",
            "1407/1407 [==============================] - 3s 2ms/step - loss: 0.3156 - accuracy: 0.9109 - val_loss: 0.3158 - val_accuracy: 0.9143\n",
            "Epoch 16/20\n",
            "1407/1407 [==============================] - 3s 2ms/step - loss: 0.3127 - accuracy: 0.9114 - val_loss: 0.3142 - val_accuracy: 0.9142\n",
            "Epoch 17/20\n",
            "1407/1407 [==============================] - 3s 2ms/step - loss: 0.3102 - accuracy: 0.9124 - val_loss: 0.3115 - val_accuracy: 0.9159\n",
            "Epoch 18/20\n",
            "1407/1407 [==============================] - 3s 2ms/step - loss: 0.3078 - accuracy: 0.9133 - val_loss: 0.3099 - val_accuracy: 0.9154\n",
            "Epoch 19/20\n",
            "1407/1407 [==============================] - 3s 2ms/step - loss: 0.3057 - accuracy: 0.9140 - val_loss: 0.3081 - val_accuracy: 0.9162\n",
            "Epoch 20/20\n",
            "1407/1407 [==============================] - 3s 2ms/step - loss: 0.3036 - accuracy: 0.9143 - val_loss: 0.3069 - val_accuracy: 0.9164\n"
          ]
        }
      ],
      "source": [
        "import tensorflow as tf \n",
        "from tensorflow import keras\n",
        "from sklearn.preprocessing import StandardScaler\n",
        "\n",
        "#training と　validationに分ける\n",
        "train_X, valid_X, train_Y, valid_Y = train_test_split(train_X, train_Y)\n",
        "\n",
        "#最適化のアルゴリズムを早くするために、変数をスケーリングします。\n",
        "train_X = train_X / 255.0\n",
        "valid_X = valid_X / 255.0\n",
        "test_X = test_X / 255.0\n",
        "\n",
        "\n",
        "keras_clf = keras.models.Sequential()\n",
        "#input layerを作る。もともとのinputのデータが2-Dなので、1Dにします。\n",
        "keras_clf.add(keras.layers.Flatten(input_shape=[28,28]))\n",
        "#output layer を作る.10個のクラスがあるので、10個のニューロンが必要。\n",
        "keras_clf.add(keras.layers.Dense(10,activation = 'softmax'))\n",
        "\n",
        "keras_clf.summary()\n",
        "keras_clf.compile(loss='sparse_categorical_crossentropy', optimizer='sgd', metrics=['accuracy'])\n",
        "history = keras_clf.fit(train_X, train_Y, epochs=20, validation_data=(valid_X, valid_Y))\n"
      ]
    },
    {
      "cell_type": "markdown",
      "source": [
        " 損失関数とaccuracyの値をエポックごとにプロットする。ValidationとTraningのデータセットのそれぞれに、その二つの値が計算されている。"
      ],
      "metadata": {
        "id": "OFAHqKmTnFlp"
      }
    },
    {
      "cell_type": "code",
      "execution_count": 18,
      "metadata": {
        "id": "bPTb-xO0vTy-",
        "colab": {
          "base_uri": "https://localhost:8080/",
          "height": 334
        },
        "outputId": "8048ac9f-dc5f-45e8-968f-1671a18c074e"
      },
      "outputs": [
        {
          "output_type": "display_data",
          "data": {
            "text/plain": [
              "<Figure size 576x360 with 1 Axes>"
            ],
            "image/png": "[encoded data removed]"
          },
          "metadata": {
            "needs_background": "light"
          }
        }
      ],
      "source": [
        "pd.DataFrame(history.history).plot(figsize=(8,5))\n",
        "plt.grid(True)\n",
        "plt.gca()\n",
        "plt.xlabel(\"# of Epocs\")\n",
        "plt.show()"
      ]
    },
    {
      "cell_type": "markdown",
      "metadata": {
        "id": "7AMbWYBavTy-"
      },
      "source": [
        "### Test データを使って予測してみる"
      ]
    },
    {
      "cell_type": "code",
      "execution_count": 19,
      "metadata": {
        "id": "sRT4lmozvTy-",
        "colab": {
          "base_uri": "https://localhost:8080/"
        },
        "outputId": "209e50fe-eb51-4d8a-8ab9-53140cea6e3e"
      },
      "outputs": [
        {
          "output_type": "stream",
          "name": "stdout",
          "text": [
            "Accuracy: 0.918\n"
          ]
        }
      ],
      "source": [
        "#accuracyを計算\n",
        "from sklearn.metrics import accuracy_score\n",
        "print(\"Accuracy: \" +str(accuracy_score(test_Y,keras_clf.predict(test_X).argmax(axis=-1))))"
      ]
    },
    {
      "cell_type": "markdown",
      "source": [
        "ニューラルネットの学習の視覚化"
      ],
      "metadata": {
        "id": "tQD_UdQ02IB-"
      }
    },
    {
      "cell_type": "markdown",
      "source": [
        "この数字判別の問題だと、アウトプットノードが１０個あります。それぞれのノードが７８４個のインプットノードとエッジで結ばれていて、そのエッジに重みがつけられています。つまり、一つのクラスに７８４個の重みがあります。\n",
        "\n",
        "それでは、ここでいう重みの最適化は何を指すのでしょうか？簡単にいうと、あるラベルがついたインプットが来た時、そのラベルを判別するアウトプットノードが他のノードに比べて大きな値を出力できるような重みを計算するのが最適化にあたります。\n",
        "\n",
        "この数字判別の例だと、仮に１を表すインプットが与えられた時、１を判別するアウトプットノードが一番大きい値を出力するような重みを計算しなければなりません。もう少し詳しくいうと、１という数字のイメージに相関があるピクセルに高い重みを与えればいいのです。そうすれば、インプットと重みのドット積も大きな値を出します。\n",
        "\n",
        "従って、重みを視覚化すると数字がぼんやりと見えます。下の図は数字の３を判別するアウトプットノードと全てのインプットのエッジの間の重みを視覚化したものです。 赤いとこほど、大きな重みを持っています。\n",
        "\n",
        "ニューラルネットワークでの学習は重みを最適化することです。あるインプットに紐づいている重みが少ないということは、それほど重要ではないということです。下の図は、そういった意味ではニューラルネットワークが重要だと学習したピクセルの位置を示していると言えます。\n",
        "\n"
      ],
      "metadata": {
        "id": "Q_XyJliK3ss1"
      }
    },
    {
      "cell_type": "code",
      "execution_count": 20,
      "metadata": {
        "id": "RvhoDv9dvTy-",
        "colab": {
          "base_uri": "https://localhost:8080/",
          "height": 283
        },
        "outputId": "659c529e-8d86-42c3-e8b7-1c4bc81020e2"
      },
      "outputs": [
        {
          "output_type": "execute_result",
          "data": {
            "text/plain": [
              "<matplotlib.image.AxesImage at 0x7f35b62f2250>"
            ]
          },
          "metadata": {},
          "execution_count": 20
        },
        {
          "output_type": "display_data",
          "data": {
            "text/plain": [
              "<Figure size 432x288 with 1 Axes>"
            ],
            "image/png": "[encoded data removed]"
          },
          "metadata": {
            "needs_background": "light"
          }
        }
      ],
      "source": [
        "#３のアウトプットノードに関連する重みを全部について、２８＊２８の2-Dに変換\n",
        "plt.imshow(np.reshape(keras_clf.get_weights()[0][:,3],(28,28)),cmap=\"seismic\")"
      ]
    }
  ],
  "metadata": {
    "kernelspec": {
      "display_name": "Python 3",
      "language": "python",
      "name": "python3"
    },
    "language_info": {
      "codemirror_mode": {
        "name": "ipython",
        "version": 3
      },
      "file_extension": ".py",
      "mimetype": "text/x-python",
      "name": "python",
      "nbconvert_exporter": "python",
      "pygments_lexer": "ipython3",
      "version": "3.8.5"
    },
    "colab": {
      "name": "Deep_learning_material_tempate.ipynb",
      "provenance": [],
      "collapsed_sections": [],
      "include_colab_link": true
    }
  },
  "nbformat": 4,
  "nbformat_minor": 0
}