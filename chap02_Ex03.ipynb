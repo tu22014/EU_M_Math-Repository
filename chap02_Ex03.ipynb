{
  "nbformat": 4,
  "nbformat_minor": 0,
  "metadata": {
    "colab": {
      "name": "chap02_Ex03.ipynb",
      "provenance": [],
      "authorship_tag": "ABX9TyOCQfHYSgdTnPL5YKwicG34",
      "include_colab_link": true
    },
    "kernelspec": {
      "name": "python3",
      "display_name": "Python 3"
    },
    "language_info": {
      "name": "python"
    }
  },
  "cells": [
    {
      "cell_type": "markdown",
      "metadata": {
        "id": "view-in-github",
        "colab_type": "text"
      },
      "source": [
        "<a href=\"https://colab.research.google.com/github/tu22014/EU_M_Math-Repository/blob/main/chap02_Ex03.ipynb\" target=\"_parent\"><img src=\"https://colab.research.google.com/assets/colab-badge.svg\" alt=\"Open In Colab\"/></a>"
      ]
    },
    {
      "cell_type": "code",
      "execution_count": 1,
      "metadata": {
        "colab": {
          "base_uri": "https://localhost:8080/"
        },
        "id": "3jxcJdf3EbTb",
        "outputId": "eb9d39ca-da69-4bd0-add0-07505eb7e24e"
      },
      "outputs": [
        {
          "output_type": "stream",
          "name": "stdout",
          "text": [
            "[[45 45 45 45 45]\n",
            " [45 45 45 45 45]\n",
            " [45 45 45 45 45]\n",
            " [45 45 45 45 45]\n",
            " [45 45 45 45 45]]\n"
          ]
        }
      ],
      "source": [
        "import numpy as np\n",
        "import numpy.random as random\n",
        "import scipy as sp\n",
        "import pandas as pd\n",
        "from pandas import Series, DataFrame\n",
        "\n",
        "import matplotlib.pyplot as plt\n",
        "import matplotlib as mpl\n",
        "import seaborn as sns\n",
        "%matplotlib inline\n",
        "\n",
        "#小数点第3位まで表示\n",
        "%precision 3\n",
        "\n",
        "#(2-3)\n",
        "#要素がすべて3の5行5列\n",
        "practice2_3 = np.array([3 for i in range(25)]).reshape(5, 5)\n",
        "#行列の２乗\n",
        "print(practice2_3.dot(practice2_3))"
      ]
    }
  ]
}