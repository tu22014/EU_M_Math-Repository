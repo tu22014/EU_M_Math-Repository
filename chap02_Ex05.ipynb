{
  "nbformat": 4,
  "nbformat_minor": 0,
  "metadata": {
    "colab": {
      "name": "chap02_Ex05.ipynb",
      "provenance": [],
      "authorship_tag": "ABX9TyN35HASFJ8mOxjfO+YKnEEj",
      "include_colab_link": true
    },
    "kernelspec": {
      "name": "python3",
      "display_name": "Python 3"
    },
    "language_info": {
      "name": "python"
    }
  },
  "cells": [
    {
      "cell_type": "markdown",
      "metadata": {
        "id": "view-in-github",
        "colab_type": "text"
      },
      "source": [
        "<a href=\"https://colab.research.google.com/github/tu22014/EU_M_Math-Repository/blob/main/chap02_Ex05.ipynb\" target=\"_parent\"><img src=\"https://colab.research.google.com/assets/colab-badge.svg\" alt=\"Open In Colab\"/></a>"
      ]
    },
    {
      "cell_type": "code",
      "execution_count": 2,
      "metadata": {
        "colab": {
          "base_uri": "https://localhost:8080/"
        },
        "id": "6-0loIunFXi3",
        "outputId": "a5910993-609e-4f41-c5da-1ee8f106bff7"
      },
      "outputs": [
        {
          "output_type": "stream",
          "name": "stdout",
          "text": [
            "逆行列: [[-0.333  0.083  0.417]\n",
            " [-0.333  0.583 -0.083]\n",
            " [ 0.667 -0.417 -0.083]]\n",
            "固有値: [ 6.   +0.j -1.414+0.j  1.414+0.j]\n",
            "固有ベクトル: [[-0.577 -0.722  0.16 ]\n",
            " [-0.577 -0.143 -0.811]\n",
            " [-0.577  0.677  0.563]]\n"
          ]
        }
      ],
      "source": [
        "import numpy as np\n",
        "import numpy.random as random\n",
        "import scipy as sp\n",
        "import pandas as pd\n",
        "from pandas import Series, DataFrame\n",
        "\n",
        "import matplotlib.pyplot as plt\n",
        "import matplotlib as mpl\n",
        "import seaborn as sns\n",
        "%matplotlib inline\n",
        "\n",
        "#小数点第3位まで表示\n",
        "%precision 3\n",
        "\n",
        "#(2-5)\n",
        "#　線形代数用のライブラリ\n",
        "import scipy.linalg as linalg\n",
        "\n",
        "#行列の入力\n",
        "practice2_5 = np.array([[1, 2, 3],\n",
        "                       [1, 3, 2],\n",
        "                       [3, 1, 2]])\n",
        "#逆行列\n",
        "print('逆行列:', linalg.inv(practice2_5))\n",
        "\n",
        "#固有値と固有ベクトル\n",
        "practice2_5_value, practice2_5_vecter = linalg.eig(practice2_5)\n",
        "#固有値\n",
        "print('固有値:', practice2_5_value)\n",
        "\n",
        "#固有ベクトル\n",
        "print('固有ベクトル:', practice2_5_vecter)"
      ]
    }
  ]
}