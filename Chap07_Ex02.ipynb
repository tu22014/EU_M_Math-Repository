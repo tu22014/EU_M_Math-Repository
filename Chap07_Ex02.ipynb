{
  "nbformat": 4,
  "nbformat_minor": 0,
  "metadata": {
    "colab": {
      "name": "Chap07_Ex02.ipynb",
      "provenance": [],
      "collapsed_sections": [],
      "authorship_tag": "ABX9TyNQ3Us4tuut1PMrtVT7svtL",
      "include_colab_link": true
    },
    "kernelspec": {
      "name": "python3",
      "display_name": "Python 3"
    },
    "language_info": {
      "name": "python"
    }
  },
  "cells": [
    {
      "cell_type": "markdown",
      "metadata": {
        "id": "view-in-github",
        "colab_type": "text"
      },
      "source": [
        "<a href=\"https://colab.research.google.com/github/tu22014/EU_M_Math-Repository/blob/main/Chap07_Ex02.ipynb\" target=\"_parent\"><img src=\"https://colab.research.google.com/assets/colab-badge.svg\" alt=\"Open In Colab\"/></a>"
      ]
    },
    {
      "cell_type": "code",
      "execution_count": 13,
      "metadata": {
        "colab": {
          "base_uri": "https://localhost:8080/",
          "height": 377
        },
        "id": "Wjlp36VxXyNX",
        "outputId": "76e44e7c-caaf-499d-d9ad-35cbeb436a69"
      },
      "outputs": [
        {
          "output_type": "display_data",
          "data": {
            "text/plain": [
              "<Figure size 648x432 with 1 Axes>"
            ],
            "image/png": "[encoded data removed]"
          },
          "metadata": {
            "needs_background": "light"
          }
        }
      ],
      "source": [
        "#ライブラリのインポート\n",
        "import numpy as np\n",
        "import numpy.random as random\n",
        "import scipy as sp\n",
        "import pandas as pd\n",
        "from pandas import Series, DataFrame\n",
        "import requests\n",
        "import zipfile\n",
        "from io import StringIO\n",
        "import io\n",
        "\n",
        "#可視化ライブラリ\n",
        "import matplotlib.pyplot as plt\n",
        "import matplotlib as mp1\n",
        "import seaborn as sns\n",
        "sns.set()\n",
        "%matplotlib inline\n",
        "\n",
        "#少数第3位まで表記\n",
        "%precision 3\n",
        "\n",
        "#ファイルのダウンロード\n",
        "zip_file_url = 'https://archive.ics.uci.edu/ml/machine-learning-databases/00356/student.zip'\n",
        "\n",
        "r = requests.get(zip_file_url, stream=True)\n",
        "z = zipfile.ZipFile(io.BytesIO(r.content))\n",
        "z.extractall()\n",
        "\n",
        "#数学のデータを読み込む\n",
        "student_data_math = pd.read_csv('student-mat.csv', sep=';')\n",
        "\n",
        "#higherを軸にG3の平均値を算出\n",
        "student_data_math_higher = student_data_math.groupby('higher')['G3'].mean()\n",
        "student_data_math_higher\n",
        "\n",
        "# X軸のデータ\n",
        "x = np.arange(len(student_data_math_higher.index))\n",
        "\n",
        "# グラフの幅\n",
        "w = 0.2\n",
        "\n",
        "# グラフの大きさ指定\n",
        "plt.figure(figsize = (9, 6))\n",
        "\n",
        "# グラフの描画。y2の方はグラフの幅の分、右にずらして描画する \n",
        "plt.bar(x, student_data_math_higher.values[0], color = 'blue', width = w, label = 'Math first', align = 'center')\n",
        "plt.bar(x + w, student_data_math_higher.values[1], color='green', width = w, label = 'Math final', align = 'center')\n",
        "\n",
        "# 凡例を最適な位置に配置\n",
        "plt.legend(loc = 'best')\n",
        "\n",
        "plt.xticks(x + w / 2, student_data_math_higher.index)\n",
        "plt.grid(True)\n"
      ]
    }
  ]
}